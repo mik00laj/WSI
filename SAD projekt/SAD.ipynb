{
 "cells": [
  {
   "metadata": {},
   "cell_type": "markdown",
   "source": "Wykorzystywane biblioteki",
   "id": "97daf6eec0030c78"
  },
  {
   "cell_type": "code",
   "id": "initial_id",
   "metadata": {
    "collapsed": true
   },
   "source": [
    "import pandas as pd\n",
    "import os\n",
    "import matplotlib.pyplot as plt\n",
    "import matplotlib.ticker as ticker\n",
    "import numpy as np"
   ],
   "outputs": [],
   "execution_count": null
  },
  {
   "metadata": {},
   "cell_type": "markdown",
   "source": "Dane",
   "id": "bd9ef5a304f259d0"
  },
  {
   "metadata": {},
   "cell_type": "markdown",
   "source": "Pobieranie danych",
   "id": "3870d4593c2afb83"
  },
  {
   "metadata": {},
   "cell_type": "code",
   "outputs": [],
   "execution_count": null,
   "source": [
    "DATA_FOLDER = os.path.join(os.getcwd(), 'dane')\n",
    "datasets = {}"
   ],
   "id": "ec5151a41d272790"
  },
  {
   "metadata": {},
   "cell_type": "markdown",
   "source": "Inflacja",
   "id": "8fe7cbfcbcbd52a"
  },
  {
   "metadata": {
    "ExecuteTime": {
     "end_time": "2024-04-28T06:38:36.861622Z",
     "start_time": "2024-04-28T06:38:36.852901Z"
    }
   },
   "cell_type": "code",
   "source": [
    "data = pd.read_csv(os.path.join(DATA_FOLDER, 'Inflacja.csv'), sep=';')\n",
    "print(data.head())\n",
    "inflation_dict = {data['rok'][i]: data['wartosc'][i] for i in range(len(data))}\n",
    "inflation_dict "
   ],
   "id": "5eb003793fcab873",
   "outputs": [
    {
     "name": "stdout",
     "output_type": "stream",
     "text": [
      "                                nazwa zmiennej jednostka terytorialna  \\\n",
      "0  Wskaznik cen towarow i uslug konsumpcyjnych                 Polska   \n",
      "1  Wskaznik cen towarow i uslug konsumpcyjnych                 Polska   \n",
      "2  Wskaznik cen towarow i uslug konsumpcyjnych                 Polska   \n",
      "3  Wskaznik cen towarow i uslug konsumpcyjnych                 Polska   \n",
      "4  Wskaznik cen towarow i uslug konsumpcyjnych                 Polska   \n",
      "\n",
      "    sposob prezentacji   rok wartosc  flaga  \n",
      "0  Rok poprzedni = 100  1950   107,5    NaN  \n",
      "1  Rok poprzedni = 100  1951   109,6    NaN  \n",
      "2  Rok poprzedni = 100  1952   114,4    NaN  \n",
      "3  Rok poprzedni = 100  1953   141,9    NaN  \n",
      "4  Rok poprzedni = 100  1954    93,7    NaN  \n"
     ]
    },
    {
     "data": {
      "text/plain": [
       "{1950: '107,5',\n",
       " 1951: '109,6',\n",
       " 1952: '114,4',\n",
       " 1953: '141,9',\n",
       " 1954: '93,7',\n",
       " 1955: '97,6',\n",
       " 1956: '99',\n",
       " 1957: '105,4',\n",
       " 1958: '102,7',\n",
       " 1959: '101,1',\n",
       " 1960: '101,8',\n",
       " 1961: '100,7',\n",
       " 1962: '102,5',\n",
       " 1963: '100,8',\n",
       " 1964: '101,2',\n",
       " 1965: '100,9',\n",
       " 1966: '101,2',\n",
       " 1967: '101,5',\n",
       " 1968: '101,6',\n",
       " 1969: '101,4',\n",
       " 1970: '101,1',\n",
       " 1971: '99,9',\n",
       " 1972: '100',\n",
       " 1973: '102,8',\n",
       " 1974: '107,1',\n",
       " 1975: '103',\n",
       " 1976: '104,4',\n",
       " 1977: '104,9',\n",
       " 1978: '108,1',\n",
       " 1979: '107',\n",
       " 1980: '109,4',\n",
       " 1981: '121,2',\n",
       " 1982: '200,8',\n",
       " 1983: '122,1',\n",
       " 1984: '115',\n",
       " 1985: '115,1',\n",
       " 1986: '117,7',\n",
       " 1987: '125,2',\n",
       " 1988: '160,2',\n",
       " 1989: '351,1',\n",
       " 1990: '685,8',\n",
       " 1991: '170,3',\n",
       " 1992: '143',\n",
       " 1993: '135,3',\n",
       " 1994: '132,2',\n",
       " 1995: '127,8',\n",
       " 1996: '119,9',\n",
       " 1997: '114,9',\n",
       " 1998: '111,8',\n",
       " 1999: '107,3',\n",
       " 2000: '110,1',\n",
       " 2001: '105,5',\n",
       " 2002: '101,9',\n",
       " 2003: '100,8',\n",
       " 2004: '103,5',\n",
       " 2005: '102,1',\n",
       " 2006: '101',\n",
       " 2007: '102,5',\n",
       " 2008: '104,2',\n",
       " 2009: '103,5',\n",
       " 2010: '102,6',\n",
       " 2011: '104,3',\n",
       " 2012: '103,7',\n",
       " 2013: '100,9',\n",
       " 2014: '100',\n",
       " 2015: '99,1',\n",
       " 2016: '99,4',\n",
       " 2017: '102',\n",
       " 2018: '101,6',\n",
       " 2019: '102,3',\n",
       " 2020: '103,4',\n",
       " 2021: '105,1',\n",
       " 2022: '114,4',\n",
       " 2023: '111,4'}"
      ]
     },
     "execution_count": 17,
     "metadata": {},
     "output_type": "execute_result"
    }
   ],
   "execution_count": 17
  },
  {
   "metadata": {},
   "cell_type": "markdown",
   "source": "Nakłady na B / R w przeliczeniu na mieszkańca",
   "id": "b4c9dde280046c67"
  },
  {
   "metadata": {},
   "cell_type": "code",
   "source": [
    "data = pd.read_csv(os.path.join(DATA_FOLDER, 'Naklady_BR_na_mieszkanca.csv'), sep=';')\n",
    "IMPORTANT_COLUMNS = ['opis_okres', 'wartosc']\n",
    "data = data[IMPORTANT_COLUMNS]\n",
    "data.rename(columns={'opis_okres': 'rok'}, inplace=True)\n",
    "datasets['Naklady_BR_na_mieszkanca'] = data\n",
    "data.head()"
   ],
   "id": "2d505ebc2c76bab1",
   "outputs": [],
   "execution_count": null
  },
  {
   "metadata": {},
   "cell_type": "code",
   "source": "",
   "id": "2e3117ae010ca25a",
   "outputs": [],
   "execution_count": null
  }
 ],
 "metadata": {
  "kernelspec": {
   "display_name": "Python 3",
   "language": "python",
   "name": "python3"
  },
  "language_info": {
   "codemirror_mode": {
    "name": "ipython",
    "version": 2
   },
   "file_extension": ".py",
   "mimetype": "text/x-python",
   "name": "python",
   "nbconvert_exporter": "python",
   "pygments_lexer": "ipython2",
   "version": "2.7.6"
  }
 },
 "nbformat": 4,
 "nbformat_minor": 5
}
